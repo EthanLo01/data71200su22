{
 "cells": [
  {
   "cell_type": "code",
   "execution_count": 1,
   "metadata": {},
   "outputs": [
    {
     "name": "stdout",
     "output_type": "stream",
     "text": [
      "Requirement already satisfied: mglearn in /opt/anaconda3/lib/python3.8/site-packages (0.1.9)\n",
      "Requirement already satisfied: numpy in /opt/anaconda3/lib/python3.8/site-packages (from mglearn) (1.20.1)\n",
      "Requirement already satisfied: pandas in /opt/anaconda3/lib/python3.8/site-packages (from mglearn) (1.2.4)\n",
      "Requirement already satisfied: joblib in /opt/anaconda3/lib/python3.8/site-packages (from mglearn) (1.0.1)\n",
      "Requirement already satisfied: matplotlib in /opt/anaconda3/lib/python3.8/site-packages (from mglearn) (3.3.4)\n",
      "Requirement already satisfied: cycler in /opt/anaconda3/lib/python3.8/site-packages (from mglearn) (0.10.0)\n",
      "Requirement already satisfied: pillow in /opt/anaconda3/lib/python3.8/site-packages (from mglearn) (8.2.0)\n",
      "Requirement already satisfied: scikit-learn in /opt/anaconda3/lib/python3.8/site-packages (from mglearn) (0.24.1)\n",
      "Requirement already satisfied: imageio in /opt/anaconda3/lib/python3.8/site-packages (from mglearn) (2.9.0)\n",
      "Requirement already satisfied: six in /opt/anaconda3/lib/python3.8/site-packages (from cycler->mglearn) (1.15.0)\n",
      "Requirement already satisfied: python-dateutil>=2.1 in /opt/anaconda3/lib/python3.8/site-packages (from matplotlib->mglearn) (2.8.1)\n",
      "Requirement already satisfied: pyparsing!=2.0.4,!=2.1.2,!=2.1.6,>=2.0.3 in /opt/anaconda3/lib/python3.8/site-packages (from matplotlib->mglearn) (2.4.7)\n",
      "Requirement already satisfied: kiwisolver>=1.0.1 in /opt/anaconda3/lib/python3.8/site-packages (from matplotlib->mglearn) (1.3.1)\n",
      "Requirement already satisfied: pytz>=2017.3 in /opt/anaconda3/lib/python3.8/site-packages (from pandas->mglearn) (2021.1)\n",
      "Requirement already satisfied: threadpoolctl>=2.0.0 in /opt/anaconda3/lib/python3.8/site-packages (from scikit-learn->mglearn) (2.1.0)\n",
      "Requirement already satisfied: scipy>=0.19.1 in /opt/anaconda3/lib/python3.8/site-packages (from scikit-learn->mglearn) (1.6.2)\n"
     ]
    }
   ],
   "source": [
    "%matplotlib inline\n",
    "import matplotlib.pyplot as plt\n",
    "import numpy as np\n",
    "import pandas as pd\n",
    "\n",
    "import warnings\n",
    "warnings.filterwarnings('ignore')\n",
    "\n",
    "import six\n",
    "import joblib\n",
    "import sys\n",
    "sys.modules['sklearn.externals.six'] = six\n",
    "sys.modules['sklearn.externals.joblib'] = joblib\n",
    "!pip install mglearn\n",
    "import mglearn"
   ]
  },
  {
   "cell_type": "markdown",
   "metadata": {},
   "source": [
    "# Support Vector Machines"
   ]
  },
  {
   "cell_type": "code",
   "execution_count": 2,
   "metadata": {},
   "outputs": [],
   "source": [
    "from sklearn.svm import SVC\n",
    "from sklearn.model_selection import StratifiedShuffleSplit\n",
    "from sklearn.datasets import load_iris\n",
    "\n",
    "# load Iris dataset\n",
    "iris = load_iris()\n",
    "\n",
    "\n",
    "\n",
    "split = StratifiedShuffleSplit(n_splits=1, test_size=0.2, random_state=42)\n",
    "for train_index, test_index in split.split(iris.data, iris.target):\n",
    "    X_train = iris.data[train_index]\n",
    "    X_test = iris.data[test_index]\n",
    "    y_train = iris.target[train_index]\n",
    "    y_test = iris.target[test_index]"
   ]
  },
  {
   "cell_type": "code",
   "execution_count": 3,
   "metadata": {
    "scrolled": true
   },
   "outputs": [
    {
     "name": "stdout",
     "output_type": "stream",
     "text": [
      "Accuracy on training set: 0.97\n",
      "Accuracy on test set: 1.00\n"
     ]
    }
   ],
   "source": [
    "# polynomial kernel\n",
    "svmPoly1 = SVC(kernel='poly', C=10).fit(X_train, y_train)\n",
    "\n",
    "print(\"Accuracy on training set: {:.2f}\".format(svmPoly1.score(X_train, y_train)))\n",
    "print(\"Accuracy on test set: {:.2f}\".format(svmPoly1.score(X_test, y_test)))"
   ]
  },
  {
   "cell_type": "code",
   "execution_count": 4,
   "metadata": {},
   "outputs": [
    {
     "name": "stdout",
     "output_type": "stream",
     "text": [
      "Accuracy on training set: 0.98\n",
      "Accuracy on test set: 1.00\n"
     ]
    }
   ],
   "source": [
    "# radial basis function kernel\n",
    "svmRBF1 = SVC(kernel='rbf', C=10, gamma=0.1).fit(X_train, y_train)\n",
    "\n",
    "print(\"Accuracy on training set: {:.2f}\".format(svmRBF1.score(X_train, y_train)))\n",
    "print(\"Accuracy on test set: {:.2f}\".format(svmRBF1.score(X_test, y_test)))"
   ]
  },
  {
   "cell_type": "markdown",
   "metadata": {},
   "source": [
    "## Parameter Tuning  "
   ]
  },
  {
   "cell_type": "code",
   "execution_count": 5,
   "metadata": {},
   "outputs": [
    {
     "name": "stdout",
     "output_type": "stream",
     "text": [
      "Accuracy on training set: 0.91\n",
      "Accuracy on test set: 0.90\n"
     ]
    }
   ],
   "source": [
    "# constrained model (low C and low gamma)\n",
    "svmRBF2 = SVC(kernel='rbf', C=0.1).fit(X_train, y_train)\n",
    "\n",
    "print(\"Accuracy on training set: {:.2f}\".format(svmRBF2.score(X_train, y_train)))\n",
    "print(\"Accuracy on test set: {:.2f}\".format(svmRBF2.score(X_test, y_test)))"
   ]
  },
  {
   "cell_type": "code",
   "execution_count": 6,
   "metadata": {
    "scrolled": true
   },
   "outputs": [
    {
     "name": "stdout",
     "output_type": "stream",
     "text": [
      "Accuracy on training set: 1.00\n",
      "Accuracy on test set: 0.90\n"
     ]
    }
   ],
   "source": [
    "# constrained model (low C and low gamma)\n",
    "svmRBF3 = SVC(kernel='rbf', C=1000, gamma=10).fit(X_train, y_train)\n",
    "\n",
    "print(\"Accuracy on training set: {:.2f}\".format(svmRBF3.score(X_train, y_train)))\n",
    "print(\"Accuracy on test set: {:.2f}\".format(svmRBF3.score(X_test, y_test)))"
   ]
  },
  {
   "cell_type": "markdown",
   "metadata": {},
   "source": [
    "## Balanced Cross-Validation Split and Grid Search"
   ]
  },
  {
   "cell_type": "code",
   "execution_count": 7,
   "metadata": {},
   "outputs": [],
   "source": [
    "from sklearn.model_selection import StratifiedShuffleSplit\n",
    "cv = StratifiedShuffleSplit(n_splits=5, test_size=0.2, random_state=42)"
   ]
  },
  {
   "cell_type": "code",
   "execution_count": 8,
   "metadata": {},
   "outputs": [],
   "source": [
    "from sklearn.model_selection import GridSearchCV\n",
    "C_range = np.logspace(-2, 10, 13)\n",
    "gamma_range = np.logspace(-9, 3, 13)\n",
    "param_grid = dict(gamma=gamma_range, C=C_range)"
   ]
  },
  {
   "cell_type": "code",
   "execution_count": 9,
   "metadata": {},
   "outputs": [
    {
     "name": "stdout",
     "output_type": "stream",
     "text": [
      "The best parameters are {'C': 0.1, 'gamma': 0.1} with a score of 0.97\n"
     ]
    }
   ],
   "source": [
    "# polynomial kernel\n",
    "gridPoly = GridSearchCV(SVC(kernel='poly'), param_grid=param_grid, cv=cv)\n",
    "gridPoly.fit(X_train, y_train)\n",
    "\n",
    "print(\"The best parameters are %s with a score of %0.2f\"\n",
    "      % (gridPoly.best_params_, gridPoly.best_score_))\n"
   ]
  },
  {
   "cell_type": "code",
   "execution_count": 10,
   "metadata": {},
   "outputs": [
    {
     "name": "stdout",
     "output_type": "stream",
     "text": [
      "Accuracy on training set: 0.97\n",
      "Accuracy on test set: 0.97\n"
     ]
    }
   ],
   "source": [
    "# polynomial kernel\n",
    "svmPolyGrid = SVC(kernel='poly', C=0.1, gamma=0.1).fit(X_train, y_train)\n",
    "\n",
    "print(\"Accuracy on training set: {:.2f}\".format(svmPolyGrid.score(X_train, y_train)))\n",
    "print(\"Accuracy on test set: {:.2f}\".format(svmPolyGrid.score(X_test, y_test)))"
   ]
  },
  {
   "cell_type": "code",
   "execution_count": 11,
   "metadata": {},
   "outputs": [
    {
     "name": "stdout",
     "output_type": "stream",
     "text": [
      "The best parameters are {'C': 1.0, 'gamma': 0.1} with a score of 0.97\n"
     ]
    }
   ],
   "source": [
    "#rbf kernel\n",
    "gridRBF = GridSearchCV(SVC(kernel='rbf'), param_grid=param_grid, cv=cv)\n",
    "gridRBF.fit(X_train, y_train)\n",
    "\n",
    "print(\"The best parameters are %s with a score of %0.2f\"\n",
    "      % (gridRBF.best_params_, gridRBF.best_score_))"
   ]
  },
  {
   "cell_type": "code",
   "execution_count": 12,
   "metadata": {},
   "outputs": [
    {
     "name": "stdout",
     "output_type": "stream",
     "text": [
      "Accuracy on training set: 0.98\n",
      "Accuracy on test set: 0.93\n"
     ]
    }
   ],
   "source": [
    "svmRBFgrid = SVC(kernel='rbf', C=1, gamma=0.1).fit(X_train, y_train)\n",
    "\n",
    "print(\"Accuracy on training set: {:.2f}\".format(svmRBFgrid.score(X_train, y_train)))\n",
    "print(\"Accuracy on test set: {:.2f}\".format(svmRBFgrid.score(X_test, y_test)))"
   ]
  },
  {
   "cell_type": "markdown",
   "metadata": {},
   "source": [
    "## Feature Scaling"
   ]
  },
  {
   "cell_type": "code",
   "execution_count": 13,
   "metadata": {},
   "outputs": [
    {
     "data": {
      "text/plain": [
       "Text(0, 0.5, 'Feature magnitude')"
      ]
     },
     "execution_count": 13,
     "metadata": {},
     "output_type": "execute_result"
    },
    {
     "data": {
      "image/png": "[encoded data removed]",
      "text/plain": [
       "<Figure size 432x288 with 1 Axes>"
      ]
     },
     "metadata": {
      "needs_background": "light"
     },
     "output_type": "display_data"
    }
   ],
   "source": [
    "plt.boxplot(X_train)\n",
    "plt.yscale(\"symlog\")\n",
    "plt.xlabel(\"Feature index\")\n",
    "plt.ylabel(\"Feature magnitude\")"
   ]
  },
  {
   "cell_type": "code",
   "execution_count": 14,
   "metadata": {},
   "outputs": [
    {
     "name": "stdout",
     "output_type": "stream",
     "text": [
      "Minimum for each feature\n",
      " [0. 0. 0. 0.]\n",
      "Maximum for each feature\n",
      " [1. 1. 1. 1.]\n"
     ]
    }
   ],
   "source": [
    "# Compute the minimum value per feature on the training set\n",
    "min_on_training = X_train.min(axis=0)\n",
    "\n",
    "# Compute the range of each feature (max - min) on the training set\n",
    "range_on_training = (X_train - min_on_training).max(axis=0)\n",
    "\n",
    "# subtract the min, divide by range\n",
    "# afterward, min=0 and max=1 for each feature\n",
    "X_train_scaled = (X_train - min_on_training) / range_on_training\n",
    "print(\"Minimum for each feature\\n\", X_train_scaled.min(axis=0))\n",
    "print(\"Maximum for each feature\\n\", X_train_scaled.max(axis=0))"
   ]
  },
  {
   "cell_type": "code",
   "execution_count": 15,
   "metadata": {},
   "outputs": [],
   "source": [
    "# use THE SAME transformation on the test set,\n",
    "# using min and range of the training set. See Chapter 3 (unsupervised learning) for details.\n",
    "X_test_scaled = (X_test - min_on_training) / range_on_training"
   ]
  },
  {
   "cell_type": "markdown",
   "metadata": {},
   "source": [
    "### Default Parameters"
   ]
  },
  {
   "cell_type": "code",
   "execution_count": 16,
   "metadata": {},
   "outputs": [
    {
     "name": "stdout",
     "output_type": "stream",
     "text": [
      "Original Features\n",
      "Accuracy on training set: 0.975\n",
      "Accuracy on test set: 0.967\n",
      "\n",
      "Scaled Features\n",
      "Accuracy on training set: 0.633\n",
      "Accuracy on test set: 0.700\n"
     ]
    }
   ],
   "source": [
    "# Polynomial Kernel\n",
    "\n",
    "print('Original Features')\n",
    "print(\"Accuracy on training set: {:.3f}\".format(\n",
    "        svmPolyGrid.score(X_train, y_train)))\n",
    "print(\"Accuracy on test set: {:.3f}\\n\".format(svmPolyGrid.score(X_test, y_test)))\n",
    "\n",
    "svmPolyScaled = SVC(kernel='poly', C=0.1, gamma=0.1).fit(X_train_scaled, y_train)\n",
    "\n",
    "print('Scaled Features')\n",
    "print(\"Accuracy on training set: {:.3f}\".format(\n",
    "        svmPolyScaled.score(X_train_scaled, y_train)))\n",
    "print(\"Accuracy on test set: {:.3f}\".format(svmPolyScaled.score(X_test_scaled, y_test)))"
   ]
  },
  {
   "cell_type": "code",
   "execution_count": 17,
   "metadata": {},
   "outputs": [
    {
     "name": "stdout",
     "output_type": "stream",
     "text": [
      "Original Features\n",
      "Accuracy on training set: 0.983\n",
      "Accuracy on test set: 0.933\n",
      "\n",
      "Scaled Features\n",
      "Accuracy on training set: 0.958\n",
      "Accuracy on test set: 0.900\n"
     ]
    }
   ],
   "source": [
    "# Radial Basis Function Kernel\n",
    "\n",
    "print('Original Features')\n",
    "print(\"Accuracy on training set: {:.3f}\".format(\n",
    "        svmRBFgrid.score(X_train, y_train)))\n",
    "print(\"Accuracy on test set: {:.3f}\\n\".format(svmRBFgrid.score(X_test, y_test)))\n",
    "\n",
    "svmRBFscaled = SVC(kernel='rbf', C=1, gamma=0.1).fit(X_train_scaled, y_train)\n",
    "\n",
    "print('Scaled Features')\n",
    "print(\"Accuracy on training set: {:.3f}\".format(\n",
    "        svmRBFscaled.score(X_train_scaled, y_train)))\n",
    "print(\"Accuracy on test set: {:.3f}\".format(svmRBFscaled.score(X_test_scaled, y_test)))"
   ]
  },
  {
   "cell_type": "markdown",
   "metadata": {},
   "source": [
    "### Optimal Parameters"
   ]
  },
  {
   "cell_type": "code",
   "execution_count": 18,
   "metadata": {},
   "outputs": [
    {
     "name": "stdout",
     "output_type": "stream",
     "text": [
      "The best parameters are {'C': 0.1, 'gamma': 10.0} with a score of 0.97\n"
     ]
    }
   ],
   "source": [
    "# redo grid search on scaled features\n",
    "\n",
    "# polynomial kernel\n",
    "gridPoly2 = GridSearchCV(SVC(kernel='poly'), param_grid=param_grid, cv=cv)\n",
    "gridPoly2.fit(X_train_scaled, y_train)\n",
    "\n",
    "print(\"The best parameters are %s with a score of %0.2f\"\n",
    "      % (gridPoly2.best_params_, gridPoly2.best_score_))"
   ]
  },
  {
   "cell_type": "code",
   "execution_count": 19,
   "metadata": {},
   "outputs": [
    {
     "name": "stdout",
     "output_type": "stream",
     "text": [
      "Scaled Features\n",
      "Accuracy on training set: 0.633\n",
      "Accuracy on test set: 0.700\n",
      "\n",
      "Scaled Features\n",
      "Accuracy on training set: 0.983\n",
      "Accuracy on test set: 1.000\n"
     ]
    }
   ],
   "source": [
    "print('Scaled Features')\n",
    "print(\"Accuracy on training set: {:.3f}\".format(\n",
    "        svmPolyScaled.score(X_train_scaled, y_train)))\n",
    "print(\"Accuracy on test set: {:.3f}\\n\".format(svmPolyScaled.score(X_test_scaled, y_test)))\n",
    "\n",
    "svmPolyScaled2 = SVC(kernel='poly', C=0.1, gamma=10).fit(X_train_scaled, y_train)\n",
    "\n",
    "print('Scaled Features')\n",
    "print(\"Accuracy on training set: {:.3f}\".format(\n",
    "        svmPolyScaled2.score(X_train_scaled, y_train)))\n",
    "print(\"Accuracy on test set: {:.3f}\".format(svmPolyScaled2.score(X_test_scaled, y_test)))"
   ]
  },
  {
   "cell_type": "code",
   "execution_count": 20,
   "metadata": {},
   "outputs": [
    {
     "name": "stdout",
     "output_type": "stream",
     "text": [
      "The best parameters are {'C': 10000000.0, 'gamma': 1e-06} with a score of 0.98\n"
     ]
    }
   ],
   "source": [
    "#rbf kernel\n",
    "gridRBF2 = GridSearchCV(SVC(kernel='rbf'), param_grid=param_grid, cv=cv)\n",
    "gridRBF2.fit(X_train_scaled, y_train)\n",
    "\n",
    "print(\"The best parameters are %s with a score of %0.2f\"\n",
    "      % (gridRBF2.best_params_, gridRBF2.best_score_))"
   ]
  },
  {
   "cell_type": "code",
   "execution_count": 21,
   "metadata": {},
   "outputs": [
    {
     "name": "stdout",
     "output_type": "stream",
     "text": [
      "Scaled Features\n",
      "Accuracy on training set: 0.958\n",
      "Accuracy on test set: 0.900\n",
      "\n",
      "Scaled Features\n",
      "Accuracy on training set: 0.967\n",
      "Accuracy on test set: 1.000\n"
     ]
    }
   ],
   "source": [
    "print('Scaled Features')\n",
    "print(\"Accuracy on training set: {:.3f}\".format(\n",
    "        svmRBFscaled.score(X_train_scaled, y_train)))\n",
    "print(\"Accuracy on test set: {:.3f}\\n\".format(svmRBFscaled.score(X_test_scaled, y_test)))\n",
    "\n",
    "svmRBFscaled2 = SVC(kernel='rbf', C=10000000.0, gamma=1e-06, probability=True).fit(X_train_scaled, y_train)\n",
    "\n",
    "print('Scaled Features')\n",
    "print(\"Accuracy on training set: {:.3f}\".format(\n",
    "        svmRBFscaled2.score(X_train_scaled, y_train)))\n",
    "print(\"Accuracy on test set: {:.3f}\".format(svmRBFscaled2.score(X_test_scaled, y_test)))"
   ]
  },
  {
   "cell_type": "markdown",
   "metadata": {},
   "source": [
    "# Uncertainty estimates from classifiers"
   ]
  },
  {
   "cell_type": "code",
   "execution_count": 22,
   "metadata": {
    "scrolled": true
   },
   "outputs": [
    {
     "name": "stdout",
     "output_type": "stream",
     "text": [
      "Thresholded decision function:\n",
      " [[ True False False]\n",
      " [False False  True]\n",
      " [False  True False]\n",
      " [False  True False]\n",
      " [ True False False]\n",
      " [False  True False]\n",
      " [ True False False]\n",
      " [ True False False]\n",
      " [False False  True]\n",
      " [False  True False]\n",
      " [False False  True]\n",
      " [False False  True]\n",
      " [False False  True]\n",
      " [False  True False]\n",
      " [ True False False]\n",
      " [ True False False]\n",
      " [ True False False]\n",
      " [False  True False]\n",
      " [False  True False]\n",
      " [False False  True]\n",
      " [ True False False]\n",
      " [False False  True]\n",
      " [False  True False]\n",
      " [False False  True]\n",
      " [False False  True]\n",
      " [False  True False]\n",
      " [False  True False]\n",
      " [ True False False]\n",
      " [False False  True]\n",
      " [ True False False]]\n",
      "Predictions:\n",
      " [0 2 1 1 0 1 0 0 2 1 2 2 2 1 0 0 0 1 1 2 0 2 1 2 2 1 1 0 2 0]\n"
     ]
    }
   ],
   "source": [
    "print(\"Thresholded decision function:\\n\",\n",
    "      svmRBFscaled2.decision_function(X_test_scaled) > 1.5)\n",
    "print(\"Predictions:\\n\", svmRBFscaled2.predict(X_test_scaled))"
   ]
  },
  {
   "cell_type": "code",
   "execution_count": 23,
   "metadata": {},
   "outputs": [
    {
     "name": "stdout",
     "output_type": "stream",
     "text": [
      "Decision function minimum: -0.31 maximum: 2.28\n"
     ]
    }
   ],
   "source": [
    "decision_function = svmRBFscaled2.decision_function(X_test_scaled)\n",
    "print(\"Decision function minimum: {:.2f} maximum: {:.2f}\".format(\n",
    "      np.min(decision_function), np.max(decision_function)))"
   ]
  },
  {
   "cell_type": "code",
   "execution_count": 24,
   "metadata": {},
   "outputs": [
    {
     "name": "stdout",
     "output_type": "stream",
     "text": [
      "Decision function shape: (30, 3)\n",
      "Decision function:\n",
      "[[ 2.24845914  1.29714452 -0.30587212]\n",
      " [-0.26570613  1.24038237  2.19105727]\n",
      " [-0.17271757  2.2752294   0.7381744 ]\n",
      " [-0.18126427  2.27605552  0.7386982 ]\n",
      " [ 2.2520304   1.2972791  -0.30633234]\n",
      " [-0.25287042  2.25912813  0.91369871]]\n"
     ]
    }
   ],
   "source": [
    "print(\"Decision function shape:\", svmRBFscaled2.decision_function(X_test_scaled).shape)\n",
    "# plot the first few entries of the decision function\n",
    "print(\"Decision function:\")\n",
    "print(svmRBFscaled2.decision_function(X_test_scaled)[:6, :])"
   ]
  },
  {
   "cell_type": "code",
   "execution_count": 25,
   "metadata": {},
   "outputs": [
    {
     "name": "stdout",
     "output_type": "stream",
     "text": [
      "Argmax of decision function:\n",
      "[0 2 1 1 0 1 0 0 2 1 2 2 2 1 0 0 0 1 1 2 0 2 1 2 2 1 1 0 2 0]\n",
      "Predictions:\n",
      "[0 2 1 1 0 1 0 0 2 1 2 2 2 1 0 0 0 1 1 2 0 2 1 2 2 1 1 0 2 0]\n"
     ]
    }
   ],
   "source": [
    "print(\"Argmax of decision function:\")\n",
    "print(np.argmax(svmRBFscaled2.decision_function(X_test_scaled), axis=1))\n",
    "print(\"Predictions:\")\n",
    "print(svmRBFscaled2.predict(X_test_scaled))"
   ]
  },
  {
   "cell_type": "code",
   "execution_count": 26,
   "metadata": {},
   "outputs": [
    {
     "name": "stdout",
     "output_type": "stream",
     "text": [
      "Shape of probabilities: (30, 3)\n",
      "Predicted probabilities:\n",
      "[[0.97096416 0.01803691 0.01099893]\n",
      " [0.01850772 0.31633452 0.66515776]\n",
      " [0.09443006 0.88312306 0.02244688]\n",
      " [0.07783015 0.90341286 0.01875699]\n",
      " [0.97675574 0.01373383 0.00951043]\n",
      " [0.01004254 0.85428764 0.13566982]]\n",
      "Sums: [1. 1. 1. 1. 1. 1.]\n"
     ]
    }
   ],
   "source": [
    "# Predicting Probabilities\n",
    "print(\"Shape of probabilities:\", svmRBFscaled2.predict_proba(X_test_scaled).shape)\n",
    "# show the first few entries of predict_proba\n",
    "print(\"Predicted probabilities:\")\n",
    "print(svmRBFscaled2.predict_proba(X_test_scaled)[:6])\n",
    "# show that sums across rows are one\n",
    "print(\"Sums:\", svmRBFscaled2.predict_proba(X_test_scaled)[:6].sum(axis=1))"
   ]
  },
  {
   "cell_type": "code",
   "execution_count": 27,
   "metadata": {},
   "outputs": [
    {
     "name": "stdout",
     "output_type": "stream",
     "text": [
      "Argmax of predicted probabilities:\n",
      "[0 2 1 1 0 1 0 0 2 1 2 2 2 1 0 0 0 1 1 2 0 2 1 2 2 1 1 0 2 0]\n",
      "Predictions:\n",
      "[0 2 1 1 0 1 0 0 2 1 2 2 2 1 0 0 0 1 1 2 0 2 1 2 2 1 1 0 2 0]\n"
     ]
    }
   ],
   "source": [
    "print(\"Argmax of predicted probabilities:\")\n",
    "print(np.argmax(svmRBFscaled2.predict_proba(X_test_scaled), axis=1))\n",
    "print(\"Predictions:\")\n",
    "print(svmRBFscaled2.predict(X_test_scaled))"
   ]
  }
 ],
 "metadata": {
  "kernelspec": {
   "display_name": "Python 3",
   "language": "python",
   "name": "python3"
  },
  "language_info": {
   "codemirror_mode": {
    "name": "ipython",
    "version": 3
   },
   "file_extension": ".py",
   "mimetype": "text/x-python",
   "name": "python",
   "nbconvert_exporter": "python",
   "pygments_lexer": "ipython3",
   "version": "3.6.13"
  }
 },
 "nbformat": 4,
 "nbformat_minor": 2
}
