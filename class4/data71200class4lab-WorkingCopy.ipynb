{
 "cells": [
  {
   "cell_type": "code",
   "execution_count": 1,
   "id": "f0464131",
   "metadata": {},
   "outputs": [],
   "source": [
    "import os\n",
    "import mglearn\n",
    "import numpy as np\n",
    "import pandas as pd\n",
    "from pandas.plotting import scatter_matrix"
   ]
  },
  {
   "cell_type": "markdown",
   "id": "6a0df9f7",
   "metadata": {},
   "source": [
    "# In-Class Activity 1"
   ]
  },
  {
   "cell_type": "code",
   "execution_count": 2,
   "id": "b6a5716a",
   "metadata": {},
   "outputs": [],
   "source": [
    "# Import the California Housing Data from used in the HOML book, Chapter 2\n",
    "# Apply one-hot encoding to the ocean_proximity value\n",
    "\n",
    "import os\n",
    "import tarfile\n",
    "from six.moves import urllib\n",
    "\n",
    "DOWNLOAD_ROOT = \"https://raw.githubusercontent.com/ageron/handson-ml/master/\"\n",
    "HOUSING_PATH = os.path.join(\"datasets\", \"housing\")\n",
    "HOUSING_URL = DOWNLOAD_ROOT + \"datasets/housing/housing.tgz\"\n",
    "\n",
    "def fetch_housing_data(housing_url=HOUSING_URL, housing_path=HOUSING_PATH):\n",
    "    os.makedirs(housing_path, exist_ok=True)\n",
    "    tgz_path = os.path.join(housing_path, \"housing.tgz\")\n",
    "    urllib.request.urlretrieve(housing_url, tgz_path)\n",
    "    housing_tgz = tarfile.open(tgz_path)\n",
    "    housing_tgz.extractall(path=housing_path)\n",
    "    housing_tgz.close()"
   ]
  },
  {
   "cell_type": "code",
   "execution_count": 3,
   "id": "89d5af6f",
   "metadata": {},
   "outputs": [],
   "source": [
    "fetch_housing_data()\n",
    "\n",
    "def load_housing_data(housing_path=HOUSING_PATH):\n",
    "    csv_path = os.path.join(housing_path, \"housing.csv\")\n",
    "    return pd.read_csv(csv_path)"
   ]
  },
  {
   "cell_type": "code",
   "execution_count": 4,
   "id": "64b2c72b",
   "metadata": {},
   "outputs": [],
   "source": [
    "housing = load_housing_data()"
   ]
  },
  {
   "cell_type": "code",
   "execution_count": 5,
   "id": "277d5b32",
   "metadata": {},
   "outputs": [],
   "source": [
    "from sklearn.preprocessing import OrdinalEncoder # just to raise an ImportError if Scikit-Learn < 0.20\n",
    "from sklearn.preprocessing import OneHotEncoder\n",
    "\n",
    "housing_cat = housing['ocean_proximity'].values.reshape(-1,1)\n"
   ]
  },
  {
   "cell_type": "code",
   "execution_count": null,
   "id": "0fd2d1a0",
   "metadata": {},
   "outputs": [],
   "source": []
  },
  {
   "cell_type": "markdown",
   "id": "03e57732",
   "metadata": {},
   "source": [
    "# In-Class Activity 2"
   ]
  },
  {
   "cell_type": "code",
   "execution_count": 6,
   "id": "789d6a39",
   "metadata": {},
   "outputs": [],
   "source": [
    "# Apply binning to the housing_median_age value in the California Housing dataset that we looked at last class\n",
    "# Plot both the original data and the binned data using matplotlib\n",
    "\n",
    "from sklearn.preprocessing import KBinsDiscretizer\n"
   ]
  },
  {
   "cell_type": "code",
   "execution_count": null,
   "id": "8b658584",
   "metadata": {},
   "outputs": [],
   "source": []
  },
  {
   "cell_type": "code",
   "execution_count": null,
   "id": "7a74b2a2",
   "metadata": {},
   "outputs": [],
   "source": []
  },
  {
   "cell_type": "code",
   "execution_count": null,
   "id": "a1b04681",
   "metadata": {},
   "outputs": [],
   "source": []
  },
  {
   "cell_type": "code",
   "execution_count": null,
   "id": "418b988c",
   "metadata": {},
   "outputs": [],
   "source": []
  },
  {
   "cell_type": "code",
   "execution_count": null,
   "id": "458eff69",
   "metadata": {},
   "outputs": [],
   "source": []
  },
  {
   "cell_type": "markdown",
   "id": "9c1e2d22",
   "metadata": {},
   "source": [
    "# In-Class Activity 3"
   ]
  },
  {
   "cell_type": "code",
   "execution_count": 7,
   "id": "974c03c3",
   "metadata": {},
   "outputs": [],
   "source": [
    "#Apply the following transformations to housing_median_age and median_income in the California Housing dataset\n",
    "# Squaring (**2)\n",
    "# Cubing (**3)\n",
    "# np.log\n",
    "# np.exp\n",
    "# Plot histograms and scatter matrices to explore the resultant data\n",
    "\n",
    "# housing_median_age\n"
   ]
  },
  {
   "cell_type": "code",
   "execution_count": null,
   "id": "2ddc83f3",
   "metadata": {},
   "outputs": [],
   "source": []
  },
  {
   "cell_type": "code",
   "execution_count": null,
   "id": "a2992c78",
   "metadata": {},
   "outputs": [],
   "source": []
  },
  {
   "cell_type": "code",
   "execution_count": null,
   "id": "1c2c3efb",
   "metadata": {},
   "outputs": [],
   "source": []
  },
  {
   "cell_type": "code",
   "execution_count": null,
   "id": "d7f03d03",
   "metadata": {},
   "outputs": [],
   "source": []
  },
  {
   "cell_type": "code",
   "execution_count": 8,
   "id": "e63a4c5a",
   "metadata": {},
   "outputs": [],
   "source": [
    "# median_income\n"
   ]
  },
  {
   "cell_type": "code",
   "execution_count": null,
   "id": "792b69e7",
   "metadata": {},
   "outputs": [],
   "source": []
  },
  {
   "cell_type": "code",
   "execution_count": null,
   "id": "96ea45c1",
   "metadata": {},
   "outputs": [],
   "source": []
  },
  {
   "cell_type": "code",
   "execution_count": null,
   "id": "ac913435",
   "metadata": {},
   "outputs": [],
   "source": []
  },
  {
   "cell_type": "code",
   "execution_count": null,
   "id": "dde885a0",
   "metadata": {},
   "outputs": [],
   "source": []
  },
  {
   "cell_type": "code",
   "execution_count": 9,
   "id": "c28c71f2",
   "metadata": {},
   "outputs": [],
   "source": [
    "#scatter matrix for the original data for house_median_age and median_income\n",
    "\n"
   ]
  },
  {
   "cell_type": "code",
   "execution_count": 10,
   "id": "8e061944",
   "metadata": {},
   "outputs": [],
   "source": [
    "#scatter matrix for the squared data for house_median_age and median_income\n"
   ]
  },
  {
   "cell_type": "code",
   "execution_count": 11,
   "id": "dc18a8f1",
   "metadata": {},
   "outputs": [],
   "source": [
    "#scatter matrix for the cubed data for house_median_age and median_income\n"
   ]
  }
 ],
 "metadata": {
  "kernelspec": {
   "display_name": "Python 3",
   "language": "python",
   "name": "python3"
  },
  "language_info": {
   "codemirror_mode": {
    "name": "ipython",
    "version": 3
   },
   "file_extension": ".py",
   "mimetype": "text/x-python",
   "name": "python",
   "nbconvert_exporter": "python",
   "pygments_lexer": "ipython3",
   "version": "3.8.8"
  }
 },
 "nbformat": 4,
 "nbformat_minor": 5
}
